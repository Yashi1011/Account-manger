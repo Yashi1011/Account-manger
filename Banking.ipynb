{
 "cells": [
  {
   "cell_type": "code",
   "execution_count": 1,
   "metadata": {},
   "outputs": [],
   "source": [
    "import ipywidgets as widgets\n",
    "from IPython.display import display\n",
    "from pymongo import MongoClient\n",
    "import urllib"
   ]
  },
  {
   "cell_type": "code",
   "execution_count": 2,
   "metadata": {},
   "outputs": [],
   "source": [
    "cluster = MongoClient(\"Connection string\")\n",
    "db = cluster[\"Accounts\"]\n",
    "collection = db[\"Details\"]"
   ]
  },
  {
   "cell_type": "code",
   "execution_count": 3,
   "metadata": {},
   "outputs": [],
   "source": [
    "def transfer(address):\n",
    "    print(\"!MAKE SURE YOU ENTER THE EMAIL CORRECTLY!\")\n",
    "    amount=widgets.Text(description=\"Amount\")     \n",
    "    add=widgets.Text(description=\"E-mail\")\n",
    "    submit = widgets.Button(description=\"Submit\", button_style=\"success\")\n",
    "    display(amount,add,submit)\n",
    "    def on_button_click(b):\n",
    "        bal = collection.find_one({\"e_add\": address})\n",
    "        if(bal[\"balance\"] >= int(amount.value)):\n",
    "            myquery_debit = {\"e_add\": address}\n",
    "            newvalues_debit = {\"$inc\": {\"balance\": -int(amount.value)}}\n",
    "            collection.update_one(myquery_debit, newvalues_debit)  \n",
    "                 \n",
    "            myquery_credit = {\"e_add\": add.value}\n",
    "            newvalues_credit = {\"$inc\": {\"balance\": +int(amount.value)}}\n",
    "            collection.update_one(myquery_credit, newvalues_credit)\n",
    "            print(\"TRANSFER SUCCESSFUL\")\n",
    "        else:\n",
    "            print(\"INSUFFICIENT FUNDS\")\n",
    "    submit.on_click(on_button_click)"
   ]
  },
  {
   "cell_type": "code",
   "execution_count": 4,
   "metadata": {},
   "outputs": [],
   "source": [
    "def home(address):\n",
    "    print(\"WELCOME\\n\\n\",address)\n",
    "    button1 = widgets.Button(description=\"Check balance\", button_style=\"success\")\n",
    "    button2 = widgets.Button(description=\"Transfer\", button_style=\"warning\")\n",
    "    button3 = widgets.Button(description=\"EXIT\", button_style=\"danger\")\n",
    "    def on_button_click(b1):\n",
    "        bal = collection.find_one({\"e_add\": address})\n",
    "        print(bal[\"balance\"])\n",
    "    display(button1, button2, button3)\n",
    "    button1.on_click(on_button_click) \n",
    "    def on_button_clicl1(b2):\n",
    "        return transfer(address)\n",
    "    button2.on_click(on_button_clicl1)\n",
    "    def on_button_click2(b3):\n",
    "        return welcome()\n",
    "    button3.on_click(on_button_click2)"
   ]
  },
  {
   "cell_type": "code",
   "execution_count": 5,
   "metadata": {},
   "outputs": [],
   "source": [
    "def addToDatabase(address, password):\n",
    "    collection.insert_one({\"e_add\": address, \"e_pass\": password, \"balance\": 100})\n",
    "    print(\"Account created successfully\\n\\n\\n\\n\\n\\n\\n\\n\\n\\n\\n\")\n",
    "    return home(address)"
   ]
  },
  {
   "cell_type": "code",
   "execution_count": 6,
   "metadata": {},
   "outputs": [],
   "source": [
    "def validate(address, password):\n",
    "    result = collection.find_one({\"e_add\": address})\n",
    "    if result==None:\n",
    "        print(\"Wrong E-mail\")\n",
    "        return\n",
    "    result_add = result[\"e_add\"]\n",
    "    result_pass = result[\"e_pass\"]\n",
    "    if(address == result_add and password == result_pass):\n",
    "        print(\"Login successful\\n\\n\\n\\n\\n\\n\\n\\n\\n\\n\\n\")\n",
    "        return home(address)\n",
    "    else:\n",
    "        print(\"Wrong credentials\\n\\n\")\n",
    "        return login()"
   ]
  },
  {
   "cell_type": "code",
   "execution_count": 7,
   "metadata": {},
   "outputs": [],
   "source": [
    "def login():\n",
    "    e_add=widgets.Text(description=\"E-mail\")                            \n",
    "    e_pass=widgets.Password(description=\"Password\")                     \n",
    "    c=widgets.Button(description=\"Log in\", button_style=\"info\")         \n",
    "    val=widgets.Text(description=e_pass.value, disabled=True)           \n",
    "    mylink=widgets.jslink((e_pass,'value'),(val,'value'))               \n",
    "    display(e_add,e_pass,val,c)\n",
    "    def on_button_clicked(c): \n",
    "        return validate(e_add.value, val.value)\n",
    "    c.on_click(on_button_clicked)"
   ]
  },
  {
   "cell_type": "code",
   "execution_count": 8,
   "metadata": {},
   "outputs": [],
   "source": [
    "def register():\n",
    "    e_add=widgets.Text(description=\"E-mail\")                            \n",
    "    e_pass=widgets.Password(description=\"Password\")                     \n",
    "    c=widgets.Button(description=\"Register\", button_style=\"info\")         \n",
    "    val=widgets.Text(description=e_pass.value, disabled=True)           \n",
    "    mylink=widgets.jslink((e_pass,'value'),(val,'value'))               \n",
    "    display(e_add,e_pass,val,c)\n",
    "    def on_button_clicked(c):  \n",
    "        if(collection.find_one({\"e_add\": e_add.value})):\n",
    "            print(\"SORRY! THIS EMAIL ID ALREADY EXISTS\")\n",
    "            return welcome()\n",
    "        else:\n",
    "            return addToDatabase(e_add.value, val.value)\n",
    "    c.on_click(on_button_clicked)"
   ]
  },
  {
   "cell_type": "code",
   "execution_count": 9,
   "metadata": {},
   "outputs": [],
   "source": [
    "def welcome():\n",
    "    print(\"WELCOME TO BANKING\")\n",
    "    button1 = widgets.Button(description=\"Register\", button_style=\"primary\")\n",
    "    button2 = widgets.Button(description=\"Log in\", button_style=\"primary\")\n",
    "    button3 = widgets.Button(description=\"Exit\", button_style=\"danger\")\n",
    "    display(button1, button2, button3) \n",
    "    def on_button_clicked1(b):\n",
    "        return register()\n",
    "    def on_button_clicked2(b):\n",
    "        return login() \n",
    "    def on_button_clicked3(b):\n",
    "        print(\"THANKYOU FOR USING BANKING. HOPE YOU COME BACK SOON!\")\n",
    "        return\n",
    "    button1.on_click(on_button_clicked1)\n",
    "    button2.on_click(on_button_clicked2)\n",
    "    button3.on_click(on_button_clicked3)"
   ]
  },
  {
   "cell_type": "code",
   "execution_count": 11,
   "metadata": {},
   "outputs": [
    {
     "name": "stdout",
     "output_type": "stream",
     "text": [
      "WELCOME TO BANKING\n"
     ]
    },
    {
     "data": {
      "application/vnd.jupyter.widget-view+json": {
       "model_id": "8e05e43073df4304af153a7b62db5032",
       "version_major": 2,
       "version_minor": 0
      },
      "text/plain": [
       "Button(button_style='primary', description='Register', style=ButtonStyle())"
      ]
     },
     "metadata": {},
     "output_type": "display_data"
    },
    {
     "data": {
      "application/vnd.jupyter.widget-view+json": {
       "model_id": "d5e1e138f9f049d0bc8b6c5563b5d81d",
       "version_major": 2,
       "version_minor": 0
      },
      "text/plain": [
       "Button(button_style='primary', description='Log in', style=ButtonStyle())"
      ]
     },
     "metadata": {},
     "output_type": "display_data"
    },
    {
     "data": {
      "application/vnd.jupyter.widget-view+json": {
       "model_id": "e425bb1c4e704e07892d2ee657b7ee27",
       "version_major": 2,
       "version_minor": 0
      },
      "text/plain": [
       "Button(button_style='danger', description='Exit', style=ButtonStyle())"
      ]
     },
     "metadata": {},
     "output_type": "display_data"
    }
   ],
   "source": [
    "welcome()"
   ]
  }
 ],
 "metadata": {
  "kernelspec": {
   "display_name": "Python 3",
   "language": "python",
   "name": "python3"
  },
  "language_info": {
   "codemirror_mode": {
    "name": "ipython",
    "version": 3
   },
   "file_extension": ".py",
   "mimetype": "text/x-python",
   "name": "python",
   "nbconvert_exporter": "python",
   "pygments_lexer": "ipython3",
   "version": "3.7.5"
  }
 },
 "nbformat": 4,
 "nbformat_minor": 2
}
