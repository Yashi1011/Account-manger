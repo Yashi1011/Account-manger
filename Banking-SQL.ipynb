{
 "cells": [
  {
   "cell_type": "code",
   "execution_count": 1,
   "metadata": {},
   "outputs": [],
   "source": [
    "import mysql.connector\n",
    "import ipywidgets as widgets\n",
    "from IPython.display import display\n",
    "import urllib"
   ]
  },
  {
   "cell_type": "code",
   "execution_count": 2,
   "metadata": {},
   "outputs": [],
   "source": [
    "mydb = mysql.connector.connect(\n",
    "\thost=\"Host_name\",\n",
    "\tuser=\"Username\",\n",
    "\tpasswd=\"Password\",\n",
    "\tdatabase=\"Database_name\")\n",
    "mycursor=mydb.cursor()"
   ]
  },
  {
   "cell_type": "code",
   "execution_count": 3,
   "metadata": {},
   "outputs": [],
   "source": [
    "def transfer(address):\n",
    "    print(\"!MAKE SURE YOU ENTER THE EMAIL CORRECTLY!\")\n",
    "    amount=widgets.Text(description=\"Amount\")     \n",
    "    add=widgets.Text(description=\"E-mail\")\n",
    "    submit = widgets.Button(description=\"Submit\", button_style=\"success\")\n",
    "    display(amount,add,submit)\n",
    "    def on_button_click(b):\n",
    "        mycursor.execute(\"SELECT Balance FROM Accounts Where Email='\"+address+\"'\")\n",
    "        x=' '.join(map(str, mycursor.fetchall()))\n",
    "        bal1=float(x[1:len(x)-2])\n",
    "        amt=float(amount.value)\n",
    "        mycursor.execute(\"SELECT Balance FROM Accounts Where Email='\"+add.value+\"'\")\n",
    "        x=' '.join(map(str, mycursor.fetchall()))\n",
    "        bal2=float(x[1:len(x)-2])\n",
    "        if(bal1 >= amt):\n",
    "            mycursor.execute(\"UPDATE Accounts SET Balance='\"+str(bal1-amt)+\"' WHERE Email='\"+address+\"'\")\n",
    "            mydb.commit() \n",
    "                 \n",
    "            mycursor.execute(\"UPDATE Accounts SET Balance='\"+str(bal2+amt)+\"' WHERE Email='\"+add.value+\"'\")\n",
    "            mydb.commit()\n",
    "            print(\"TRANSFER SUCCESSFUL\")\n",
    "        else:\n",
    "            print(\"INSUFFICIENT FUNDS\")\n",
    "    submit.on_click(on_button_click)"
   ]
  },
  {
   "cell_type": "code",
   "execution_count": 4,
   "metadata": {},
   "outputs": [],
   "source": [
    "def home(address):\n",
    "    print(\"WELCOME\\n\\n\",address)\n",
    "    button1 = widgets.Button(description=\"Check balance\", button_style=\"success\")\n",
    "    button2 = widgets.Button(description=\"Transfer\", button_style=\"warning\")\n",
    "    button3 = widgets.Button(description=\"EXIT\", button_style=\"danger\")\n",
    "    def on_button_click(b1):\n",
    "        mycursor.execute(\"SELECT Balance FROM Accounts Where Email='\"+address+\"'\")\n",
    "        x=' '.join(map(str, mycursor.fetchall()))\n",
    "        bal=float(x[1:len(x)-2])\n",
    "        print(bal)\n",
    "    display(button1, button2, button3)\n",
    "    button1.on_click(on_button_click) \n",
    "    def on_button_clicl1(b2):\n",
    "        return transfer(address)\n",
    "    button2.on_click(on_button_clicl1)\n",
    "    def on_button_click2(b3):\n",
    "        return welcome()\n",
    "    button3.on_click(on_button_click2)"
   ]
  },
  {
   "cell_type": "code",
   "execution_count": 5,
   "metadata": {},
   "outputs": [],
   "source": [
    "def checkForEmail(address):\n",
    "    mycursor.execute(\"SELECT * FROM Accounts WHERE Email='\"+address+\"'\")\n",
    "    add=mycursor.fetchall()\n",
    "    if(len(add)==1):\n",
    "        return 1\n",
    "    else:\n",
    "        return 0"
   ]
  },
  {
   "cell_type": "code",
   "execution_count": 6,
   "metadata": {},
   "outputs": [],
   "source": [
    "def addToDatabase(address, password):\n",
    "    mycursor.execute(\"INSERT INTO Accounts(Email, Password, Balance) VALUES ('\"+address+\"','\"+password+\"','100') \")\n",
    "    mydb.commit()\n",
    "    print(\"Account created successfully\\n\\n\\n\\n\\n\\n\\n\\n\\n\\n\\n\")\n",
    "    return home(address)"
   ]
  },
  {
   "cell_type": "code",
   "execution_count": 7,
   "metadata": {},
   "outputs": [],
   "source": [
    "def validate(address, password):\n",
    "    mycursor.execute(\"SELECT Password FROM Accounts WHERE Email='\"+address+\"'\")\n",
    "    p=' '.join(map(str, mycursor.fetchall()))\n",
    "    result_pass=p[2:len(p)-3]\n",
    "    if (len(p)==0):\n",
    "        print(\"Wrong E-mail\")\n",
    "        return\n",
    "    if(password == result_pass):\n",
    "        print(\"Login successful\\n\\n\\n\\n\\n\\n\\n\\n\\n\\n\\n\")\n",
    "        return home(address)\n",
    "    else:\n",
    "        print(\"Wrong credentials\\n\\n\")\n",
    "        return login()"
   ]
  },
  {
   "cell_type": "code",
   "execution_count": 8,
   "metadata": {},
   "outputs": [],
   "source": [
    "def login():\n",
    "    e_add=widgets.Text(description=\"E-mail\")                            \n",
    "    e_pass=widgets.Password(description=\"Password\")                     \n",
    "    c=widgets.Button(description=\"Log in\", button_style=\"info\")         \n",
    "    val=widgets.Text(description=e_pass.value, disabled=True)           \n",
    "    mylink=widgets.jslink((e_pass,'value'),(val,'value'))               \n",
    "    display(e_add,e_pass,val,c)\n",
    "    def on_button_clicked(c): \n",
    "        return validate(e_add.value, val.value)\n",
    "    c.on_click(on_button_clicked)"
   ]
  },
  {
   "cell_type": "code",
   "execution_count": 9,
   "metadata": {},
   "outputs": [],
   "source": [
    "def register():\n",
    "    e_add=widgets.Text(description=\"E-mail\")                            \n",
    "    e_pass=widgets.Password(description=\"Password\")                     \n",
    "    c=widgets.Button(description=\"Register\", button_style=\"info\")         \n",
    "    val=widgets.Text(description=e_pass.value, disabled=True)           \n",
    "    mylink=widgets.jslink((e_pass,'value'),(val,'value'))               \n",
    "    display(e_add,e_pass,val,c)\n",
    "    def on_button_clicked(c):  \n",
    "        if(checkForEmail(e_add.value)):\n",
    "            print(\"SORRY! THIS EMAIL ID ALREADY EXISTS\")\n",
    "            return welcome()\n",
    "        else:\n",
    "            return addToDatabase(e_add.value, val.value)\n",
    "    c.on_click(on_button_clicked)"
   ]
  },
  {
   "cell_type": "code",
   "execution_count": 10,
   "metadata": {},
   "outputs": [],
   "source": [
    "def welcome():\n",
    "    print(\"WELCOME TO BANKING\")\n",
    "    button1 = widgets.Button(description=\"Register\", button_style=\"primary\")\n",
    "    button2 = widgets.Button(description=\"Log in\", button_style=\"primary\")\n",
    "    button3 = widgets.Button(description=\"Exit\", button_style=\"danger\")\n",
    "    display(button1, button2, button3) \n",
    "    def on_button_clicked1(b):\n",
    "        return register()\n",
    "    def on_button_clicked2(b):\n",
    "        return login() \n",
    "    def on_button_clicked3(b):\n",
    "        print(\"THANKYOU FOR USING BANKING. HOPE YOU COME BACK SOON!\")\n",
    "        return\n",
    "    button1.on_click(on_button_clicked1)\n",
    "    button2.on_click(on_button_clicked2)\n",
    "    button3.on_click(on_button_clicked3)"
   ]
  },
  {
   "cell_type": "code",
   "execution_count": 11,
   "metadata": {},
   "outputs": [
    {
     "name": "stdout",
     "output_type": "stream",
     "text": [
      "WELCOME TO BANKING\n"
     ]
    },
    {
     "data": {
      "application/vnd.jupyter.widget-view+json": {
       "model_id": "13137af29c834ad7bd416f3584610b0e",
       "version_major": 2,
       "version_minor": 0
      },
      "text/plain": [
       "Button(button_style='primary', description='Register', style=ButtonStyle())"
      ]
     },
     "metadata": {},
     "output_type": "display_data"
    },
    {
     "data": {
      "application/vnd.jupyter.widget-view+json": {
       "model_id": "f7857e265e7a4546a9e70c5cc072a04b",
       "version_major": 2,
       "version_minor": 0
      },
      "text/plain": [
       "Button(button_style='primary', description='Log in', style=ButtonStyle())"
      ]
     },
     "metadata": {},
     "output_type": "display_data"
    },
    {
     "data": {
      "application/vnd.jupyter.widget-view+json": {
       "model_id": "062898ebdbfa4a27aa1d40c2a0119422",
       "version_major": 2,
       "version_minor": 0
      },
      "text/plain": [
       "Button(button_style='danger', description='Exit', style=ButtonStyle())"
      ]
     },
     "metadata": {},
     "output_type": "display_data"
    }
   ],
   "source": [
    "welcome()"
   ]
  }
 ],
 "metadata": {
  "kernelspec": {
   "display_name": "Python 3",
   "language": "python",
   "name": "python3"
  },
  "language_info": {
   "codemirror_mode": {
    "name": "ipython",
    "version": 3
   },
   "file_extension": ".py",
   "mimetype": "text/x-python",
   "name": "python",
   "nbconvert_exporter": "python",
   "pygments_lexer": "ipython3",
   "version": "3.7.3"
  }
 },
 "nbformat": 4,
 "nbformat_minor": 2
}
